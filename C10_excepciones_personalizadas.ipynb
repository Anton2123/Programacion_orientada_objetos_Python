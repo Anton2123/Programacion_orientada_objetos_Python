{
 "cells": [
  {
   "cell_type": "markdown",
   "metadata": {},
   "source": [
    "![imagenes](logo.png)"
   ]
  },
  {
   "cell_type": "markdown",
   "metadata": {},
   "source": [
    "# Excepciones personalizadas."
   ]
  },
  {
   "cell_type": "markdown",
   "metadata": {
    "collapsed": true
   },
   "source": [
    "## La clase *Exception*.\n",
    "\n",
    "La clase *Exception* pertenece al módulo *\\_\\_builtins\\_\\_* y es la clase base a partir de la cual heredan el resto de las excepciones.\n",
    "\n",
    "**Ejemplo:**"
   ]
  },
  {
   "cell_type": "code",
   "execution_count": null,
   "metadata": {},
   "outputs": [],
   "source": [
    "help(Exception)"
   ]
  },
  {
   "cell_type": "markdown",
   "metadata": {},
   "source": [
    "## Creación de una excepción propia.\n",
    "Es posible crear una excepción mediante la definición de una clase que herede de cualquiera de las Excepciones disponibles.\n",
    "Cabe hacer notar que una excepción que herede directamente de Exception, capturará todas las excepciones.\n",
    "\n",
    "**Ejemplo:**"
   ]
  },
  {
   "cell_type": "code",
   "execution_count": null,
   "metadata": {},
   "outputs": [],
   "source": [
    "class MiError(Exception):\n",
    "    '''Excepcion propia.'''\n",
    "    def __init__(self):\n",
    "        print(\"Ya me lo esperaba.\")"
   ]
  },
  {
   "cell_type": "code",
   "execution_count": null,
   "metadata": {},
   "outputs": [],
   "source": [
    "def pidenumero(numero):\n",
    "    try:\n",
    "        numero = int(numero)\n",
    "        if numero == 20 :\n",
    "            print('Adivinaste.')\n",
    "        else:\n",
    "            raise MiError\n",
    "    except MiError:\n",
    "        print('Ese no era el número.')\n",
    "    except:\n",
    "        print('Hubo un error.')\n",
    "    print('Buen día.')"
   ]
  },
  {
   "cell_type": "code",
   "execution_count": null,
   "metadata": {
    "scrolled": false
   },
   "outputs": [],
   "source": [
    "pidenumero(-1j)"
   ]
  },
  {
   "cell_type": "code",
   "execution_count": null,
   "metadata": {},
   "outputs": [],
   "source": [
    "pidenumero(12)"
   ]
  },
  {
   "cell_type": "code",
   "execution_count": null,
   "metadata": {},
   "outputs": [],
   "source": [
    "pidenumero(20)"
   ]
  }
 ],
 "metadata": {
  "kernelspec": {
   "display_name": "Python 3",
   "language": "python",
   "name": "python3"
  },
  "language_info": {
   "codemirror_mode": {
    "name": "ipython",
    "version": 3
   },
   "file_extension": ".py",
   "mimetype": "text/x-python",
   "name": "python",
   "nbconvert_exporter": "python",
   "pygments_lexer": "ipython3",
   "version": "3.7.4"
  }
 },
 "nbformat": 4,
 "nbformat_minor": 2
}
